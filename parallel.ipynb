{
 "cells": [
  {
   "cell_type": "markdown",
   "id": "14062b99",
   "metadata": {},
   "source": [
    "## Import modules"
   ]
  },
  {
   "cell_type": "code",
   "execution_count": 15,
   "id": "903d889d",
   "metadata": {},
   "outputs": [],
   "source": [
    "import numpy as np\n",
    "import matplotlib as mpl\n",
    "#mpl.use('Agg')\n",
    "import matplotlib.pyplot as plt\n",
    "import os\n",
    "from IPython.display import Image\n",
    "import matplotlib.animation as animation\n",
    "from ipywidgets import interact, interactive, fixed, interact_manual\n",
    "import ipywidgets as widgets\n",
    "import multiprocessing as mp"
   ]
  },
  {
   "cell_type": "markdown",
   "id": "0c96e14e",
   "metadata": {},
   "source": [
    "## Define Functions"
   ]
  },
  {
   "cell_type": "code",
   "execution_count": 16,
   "id": "79aaa72c",
   "metadata": {},
   "outputs": [],
   "source": [
    "def generate_data(x,y,n,t):\n",
    "    value = (x/10)**2*(y/10) + (y/10)**2*(x/10)+t/n\n",
    "    value = value %1 # Keep number between 0 and 1\n",
    "    return value"
   ]
  },
  {
   "cell_type": "code",
   "execution_count": 17,
   "id": "1d011b36",
   "metadata": {},
   "outputs": [],
   "source": [
    "def write_data(X,Y,nFiles,i,my_cmap):\n",
    "    filename=(\"output/file%05d.png\"%i)\n",
    "    Z=generate_data(X,Y,nFiles,i)\n",
    "    \n",
    "    fig,ax=plt.subplots()\n",
    "    plt.imshow(Z,cmap=my_cmap)\n",
    "    ax.axis('off')\n",
    "    plt.savefig(filename,dpi=300,bbox_inches='tight')\n",
    "    #plt.show()\n",
    "    plt.close()\n",
    "    \n",
    "    "
   ]
  },
  {
   "cell_type": "code",
   "execution_count": 18,
   "id": "b092e486",
   "metadata": {},
   "outputs": [],
   "source": [
    "def custom_colormap(filename):\n",
    "    data=np.genfromtxt(filename,delimiter=',',dtype=None)\n",
    "    my_cmap=mpl.colors.ListedColormap(data)\n",
    "    return my_cmap"
   ]
  },
  {
   "cell_type": "code",
   "execution_count": 19,
   "id": "1bcd6d9f",
   "metadata": {},
   "outputs": [],
   "source": [
    "def display_plot(id):\n",
    "    return Image(filename='output/file%05d.png'%id)"
   ]
  },
  {
   "cell_type": "markdown",
   "id": "67da356c",
   "metadata": {},
   "source": [
    "## Set parameters"
   ]
  },
  {
   "cell_type": "code",
   "execution_count": 20,
   "id": "987e78ed",
   "metadata": {},
   "outputs": [],
   "source": [
    "nFiles=60 # N Files to write\n",
    "size=100   # Size of NxN matrix to plot\n",
    "os.makedirs(\"output\",exist_ok='True')"
   ]
  },
  {
   "cell_type": "code",
   "execution_count": 25,
   "id": "4823181a",
   "metadata": {},
   "outputs": [],
   "source": [
    "half_size=size/2\n",
    "x_origin=0\n",
    "y_origin=500\n",
    "x=np.arange(x_origin-half_size,x_origin+half_size,1)\n",
    "y=np.arange(y_origin-half_size,y_origin+half_size,1)\n",
    "X,Y=np.meshgrid(x,y)\n",
    "my_pastel=custom_colormap(\"colors.txt\")\n",
    "nWorkers=4"
   ]
  },
  {
   "cell_type": "markdown",
   "id": "266955af",
   "metadata": {},
   "source": [
    "## Do some work, show the resulting image"
   ]
  },
  {
   "cell_type": "code",
   "execution_count": 26,
   "id": "17e2bf4f",
   "metadata": {},
   "outputs": [],
   "source": [
    "with mp.Pool(processes=nWorkers) as pool:\n",
    "    for i in range(nFiles):\n",
    "        write_data(X,Y,nFiles,i,my_pastel)"
   ]
  },
  {
   "cell_type": "markdown",
   "id": "b78758d0",
   "metadata": {},
   "source": [
    "## Go through each image"
   ]
  },
  {
   "cell_type": "code",
   "execution_count": 27,
   "id": "db581852",
   "metadata": {},
   "outputs": [
    {
     "data": {
      "application/vnd.jupyter.widget-view+json": {
       "model_id": "bccc233997eb4810a656254f68776adf",
       "version_major": 2,
       "version_minor": 0
      },
      "text/plain": [
       "interactive(children=(IntSlider(value=30, description='id', max=59), Output()), _dom_classes=('widget-interact…"
      ]
     },
     "metadata": {},
     "output_type": "display_data"
    }
   ],
   "source": [
    "interact(display_plot,id=widgets.IntSlider(min=0,max=nFiles-1,step=1,value=nFiles/2) );"
   ]
  }
 ],
 "metadata": {
  "kernelspec": {
   "display_name": "Python 3",
   "language": "python",
   "name": "python3"
  },
  "language_info": {
   "codemirror_mode": {
    "name": "ipython",
    "version": 3
   },
   "file_extension": ".py",
   "mimetype": "text/x-python",
   "name": "python",
   "nbconvert_exporter": "python",
   "pygments_lexer": "ipython3",
   "version": "3.9.1"
  }
 },
 "nbformat": 4,
 "nbformat_minor": 5
}
